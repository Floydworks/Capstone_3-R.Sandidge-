{
 "cells": [
  {
   "cell_type": "markdown",
   "id": "3dccb100",
   "metadata": {},
   "source": [
    "# Capstone 3: A Scholarship Allocation Tool\n",
    "**Summer camp participants apply for sholarship funding by submitting information about household income and financial need. The allocation tool uses this data to assign the applicant to a tier, determining the amount of support they receive.**\n",
    "\n",
    "**Cost-of-living data come from MIT California living wage calculations:**\n",
    "https://livingwage.mit.edu/states/06"
   ]
  },
  {
   "cell_type": "markdown",
   "id": "53c8eb3f",
   "metadata": {},
   "source": [
    "# Data Wrangling\n",
    "**Data:**\n",
    "<br>**Applicant data** - includes household income and information about other financial need.\n",
    "<br>**Cost-of-living data** - includes dollar figures for cost of living in Alameda County, California with figures for varying family sizes and age structures."
   ]
  },
  {
   "cell_type": "markdown",
   "id": "22ce7b9c",
   "metadata": {},
   "source": [
    "# 1. Import necessary libraries"
   ]
  },
  {
   "cell_type": "code",
   "execution_count": 64,
   "id": "71066a91",
   "metadata": {},
   "outputs": [],
   "source": [
    "# Import the libraries\n",
    "import requests\n",
    "import io\n",
    "import pandas as pd\n",
    "import numpy as np\n",
    "import re"
   ]
  },
  {
   "cell_type": "markdown",
   "id": "d2dc785d",
   "metadata": {},
   "source": [
    "# 2. Scrape data from MIT cost of living site"
   ]
  },
  {
   "cell_type": "code",
   "execution_count": 2,
   "id": "034c434e",
   "metadata": {},
   "outputs": [],
   "source": [
    "#url for mit living wage, Alameda County, California\n",
    "URL = \"https://livingwage.mit.edu/counties/06001\"\n",
    "page = requests.get(URL)\n",
    "\n",
    "#print(page.text)\n",
    "\n",
    "#Read HTML tables into a list of DataFrame objects\n",
    "df_list = pd.read_html(URL)"
   ]
  },
  {
   "cell_type": "code",
   "execution_count": 3,
   "id": "d87235b4",
   "metadata": {},
   "outputs": [
    {
     "data": {
      "text/html": [
       "<div>\n",
       "<style scoped>\n",
       "    .dataframe tbody tr th:only-of-type {\n",
       "        vertical-align: middle;\n",
       "    }\n",
       "\n",
       "    .dataframe tbody tr th {\n",
       "        vertical-align: top;\n",
       "    }\n",
       "\n",
       "    .dataframe thead th {\n",
       "        text-align: right;\n",
       "    }\n",
       "</style>\n",
       "<table border=\"1\" class=\"dataframe\">\n",
       "  <thead>\n",
       "    <tr style=\"text-align: right;\">\n",
       "      <th></th>\n",
       "      <th>(Unnamed: 0_level_0, Unnamed: 0_level_1)</th>\n",
       "      <th>Food</th>\n",
       "      <th>Child Care</th>\n",
       "      <th>Medical</th>\n",
       "      <th>Housing</th>\n",
       "      <th>Transportation</th>\n",
       "      <th>Civic</th>\n",
       "      <th>Other</th>\n",
       "      <th>Required annual income after taxes</th>\n",
       "      <th>Annual taxes</th>\n",
       "      <th>Required annual income before taxes</th>\n",
       "    </tr>\n",
       "  </thead>\n",
       "  <tbody>\n",
       "    <tr>\n",
       "      <th rowspan=\"4\" valign=\"top\">1 ADULT</th>\n",
       "      <th>0 Children</th>\n",
       "      <td>$3,999</td>\n",
       "      <td>$0</td>\n",
       "      <td>$2,288</td>\n",
       "      <td>$20,709</td>\n",
       "      <td>$4,938</td>\n",
       "      <td>$2,581</td>\n",
       "      <td>$4,748</td>\n",
       "      <td>$39,386</td>\n",
       "      <td>$11,077</td>\n",
       "      <td>$50,463</td>\n",
       "    </tr>\n",
       "    <tr>\n",
       "      <th>1 Child</th>\n",
       "      <td>$5,893</td>\n",
       "      <td>$14,718</td>\n",
       "      <td>$7,462</td>\n",
       "      <td>$30,941</td>\n",
       "      <td>$8,762</td>\n",
       "      <td>$4,144</td>\n",
       "      <td>$7,080</td>\n",
       "      <td>$79,124</td>\n",
       "      <td>$23,969</td>\n",
       "      <td>$103,093</td>\n",
       "    </tr>\n",
       "    <tr>\n",
       "      <th>2 Children</th>\n",
       "      <td>$8,853</td>\n",
       "      <td>$29,436</td>\n",
       "      <td>$7,249</td>\n",
       "      <td>$30,941</td>\n",
       "      <td>$11,391</td>\n",
       "      <td>$5,120</td>\n",
       "      <td>$6,477</td>\n",
       "      <td>$99,590</td>\n",
       "      <td>$30,169</td>\n",
       "      <td>$129,759</td>\n",
       "    </tr>\n",
       "    <tr>\n",
       "      <th>3 Children</th>\n",
       "      <td>$11,742</td>\n",
       "      <td>$44,154</td>\n",
       "      <td>$7,559</td>\n",
       "      <td>$41,497</td>\n",
       "      <td>$13,456</td>\n",
       "      <td>$6,686</td>\n",
       "      <td>$9,424</td>\n",
       "      <td>$134,640</td>\n",
       "      <td>$40,787</td>\n",
       "      <td>$175,426</td>\n",
       "    </tr>\n",
       "    <tr>\n",
       "      <th rowspan=\"4\" valign=\"top\">2 ADULTS(1 WORKING)</th>\n",
       "      <th>0 Children</th>\n",
       "      <td>$7,332</td>\n",
       "      <td>$0</td>\n",
       "      <td>$5,764</td>\n",
       "      <td>$25,111</td>\n",
       "      <td>$8,762</td>\n",
       "      <td>$4,144</td>\n",
       "      <td>$7,080</td>\n",
       "      <td>$58,316</td>\n",
       "      <td>$17,666</td>\n",
       "      <td>$75,982</td>\n",
       "    </tr>\n",
       "    <tr>\n",
       "      <th>1 Child</th>\n",
       "      <td>$9,124</td>\n",
       "      <td>$0</td>\n",
       "      <td>$7,249</td>\n",
       "      <td>$30,941</td>\n",
       "      <td>$11,391</td>\n",
       "      <td>$5,120</td>\n",
       "      <td>$6,477</td>\n",
       "      <td>$70,426</td>\n",
       "      <td>$21,334</td>\n",
       "      <td>$91,760</td>\n",
       "    </tr>\n",
       "    <tr>\n",
       "      <th>2 Children</th>\n",
       "      <td>$11,764</td>\n",
       "      <td>$0</td>\n",
       "      <td>$7,559</td>\n",
       "      <td>$30,941</td>\n",
       "      <td>$13,456</td>\n",
       "      <td>$6,686</td>\n",
       "      <td>$9,424</td>\n",
       "      <td>$79,951</td>\n",
       "      <td>$24,220</td>\n",
       "      <td>$104,171</td>\n",
       "    </tr>\n",
       "    <tr>\n",
       "      <th>3 Children</th>\n",
       "      <td>$14,321</td>\n",
       "      <td>$0</td>\n",
       "      <td>$7,347</td>\n",
       "      <td>$41,497</td>\n",
       "      <td>$14,613</td>\n",
       "      <td>$5,314</td>\n",
       "      <td>$9,115</td>\n",
       "      <td>$92,331</td>\n",
       "      <td>$27,970</td>\n",
       "      <td>$120,301</td>\n",
       "    </tr>\n",
       "    <tr>\n",
       "      <th rowspan=\"4\" valign=\"top\">2 ADULTS(BOTH WORKING)</th>\n",
       "      <th>0 Children</th>\n",
       "      <td>$7,332</td>\n",
       "      <td>$0</td>\n",
       "      <td>$5,764</td>\n",
       "      <td>$25,111</td>\n",
       "      <td>$8,762</td>\n",
       "      <td>$4,144</td>\n",
       "      <td>$7,080</td>\n",
       "      <td>$58,316</td>\n",
       "      <td>$17,666</td>\n",
       "      <td>$75,982</td>\n",
       "    </tr>\n",
       "    <tr>\n",
       "      <th>1 Child</th>\n",
       "      <td>$9,124</td>\n",
       "      <td>$14,718</td>\n",
       "      <td>$7,249</td>\n",
       "      <td>$30,941</td>\n",
       "      <td>$11,391</td>\n",
       "      <td>$5,120</td>\n",
       "      <td>$6,477</td>\n",
       "      <td>$85,144</td>\n",
       "      <td>$25,793</td>\n",
       "      <td>$110,937</td>\n",
       "    </tr>\n",
       "    <tr>\n",
       "      <th>2 Children</th>\n",
       "      <td>$11,764</td>\n",
       "      <td>$29,436</td>\n",
       "      <td>$7,559</td>\n",
       "      <td>$30,941</td>\n",
       "      <td>$13,456</td>\n",
       "      <td>$6,686</td>\n",
       "      <td>$9,424</td>\n",
       "      <td>$109,387</td>\n",
       "      <td>$33,137</td>\n",
       "      <td>$142,524</td>\n",
       "    </tr>\n",
       "    <tr>\n",
       "      <th>3 Children</th>\n",
       "      <td>$14,321</td>\n",
       "      <td>$44,154</td>\n",
       "      <td>$7,347</td>\n",
       "      <td>$41,497</td>\n",
       "      <td>$14,613</td>\n",
       "      <td>$5,314</td>\n",
       "      <td>$9,115</td>\n",
       "      <td>$136,485</td>\n",
       "      <td>$41,346</td>\n",
       "      <td>$177,831</td>\n",
       "    </tr>\n",
       "  </tbody>\n",
       "</table>\n",
       "</div>"
      ],
      "text/plain": [
       "('Unnamed: 0_level_0', 'Unnamed: 0_level_1')     Food Child Care Medical  \\\n",
       "1 ADULT                0 Children              $3,999         $0  $2,288   \n",
       "                       1 Child                 $5,893    $14,718  $7,462   \n",
       "                       2 Children              $8,853    $29,436  $7,249   \n",
       "                       3 Children             $11,742    $44,154  $7,559   \n",
       "2 ADULTS(1 WORKING)    0 Children              $7,332         $0  $5,764   \n",
       "                       1 Child                 $9,124         $0  $7,249   \n",
       "                       2 Children             $11,764         $0  $7,559   \n",
       "                       3 Children             $14,321         $0  $7,347   \n",
       "2 ADULTS(BOTH WORKING) 0 Children              $7,332         $0  $5,764   \n",
       "                       1 Child                 $9,124    $14,718  $7,249   \n",
       "                       2 Children             $11,764    $29,436  $7,559   \n",
       "                       3 Children             $14,321    $44,154  $7,347   \n",
       "\n",
       "('Unnamed: 0_level_0', 'Unnamed: 0_level_1')  Housing Transportation   Civic  \\\n",
       "1 ADULT                0 Children             $20,709         $4,938  $2,581   \n",
       "                       1 Child                $30,941         $8,762  $4,144   \n",
       "                       2 Children             $30,941        $11,391  $5,120   \n",
       "                       3 Children             $41,497        $13,456  $6,686   \n",
       "2 ADULTS(1 WORKING)    0 Children             $25,111         $8,762  $4,144   \n",
       "                       1 Child                $30,941        $11,391  $5,120   \n",
       "                       2 Children             $30,941        $13,456  $6,686   \n",
       "                       3 Children             $41,497        $14,613  $5,314   \n",
       "2 ADULTS(BOTH WORKING) 0 Children             $25,111         $8,762  $4,144   \n",
       "                       1 Child                $30,941        $11,391  $5,120   \n",
       "                       2 Children             $30,941        $13,456  $6,686   \n",
       "                       3 Children             $41,497        $14,613  $5,314   \n",
       "\n",
       "('Unnamed: 0_level_0', 'Unnamed: 0_level_1')   Other  \\\n",
       "1 ADULT                0 Children             $4,748   \n",
       "                       1 Child                $7,080   \n",
       "                       2 Children             $6,477   \n",
       "                       3 Children             $9,424   \n",
       "2 ADULTS(1 WORKING)    0 Children             $7,080   \n",
       "                       1 Child                $6,477   \n",
       "                       2 Children             $9,424   \n",
       "                       3 Children             $9,115   \n",
       "2 ADULTS(BOTH WORKING) 0 Children             $7,080   \n",
       "                       1 Child                $6,477   \n",
       "                       2 Children             $9,424   \n",
       "                       3 Children             $9,115   \n",
       "\n",
       "('Unnamed: 0_level_0', 'Unnamed: 0_level_1') Required annual income after taxes  \\\n",
       "1 ADULT                0 Children                                       $39,386   \n",
       "                       1 Child                                          $79,124   \n",
       "                       2 Children                                       $99,590   \n",
       "                       3 Children                                      $134,640   \n",
       "2 ADULTS(1 WORKING)    0 Children                                       $58,316   \n",
       "                       1 Child                                          $70,426   \n",
       "                       2 Children                                       $79,951   \n",
       "                       3 Children                                       $92,331   \n",
       "2 ADULTS(BOTH WORKING) 0 Children                                       $58,316   \n",
       "                       1 Child                                          $85,144   \n",
       "                       2 Children                                      $109,387   \n",
       "                       3 Children                                      $136,485   \n",
       "\n",
       "('Unnamed: 0_level_0', 'Unnamed: 0_level_1') Annual taxes  \\\n",
       "1 ADULT                0 Children                 $11,077   \n",
       "                       1 Child                    $23,969   \n",
       "                       2 Children                 $30,169   \n",
       "                       3 Children                 $40,787   \n",
       "2 ADULTS(1 WORKING)    0 Children                 $17,666   \n",
       "                       1 Child                    $21,334   \n",
       "                       2 Children                 $24,220   \n",
       "                       3 Children                 $27,970   \n",
       "2 ADULTS(BOTH WORKING) 0 Children                 $17,666   \n",
       "                       1 Child                    $25,793   \n",
       "                       2 Children                 $33,137   \n",
       "                       3 Children                 $41,346   \n",
       "\n",
       "('Unnamed: 0_level_0', 'Unnamed: 0_level_1') Required annual income before taxes  \n",
       "1 ADULT                0 Children                                        $50,463  \n",
       "                       1 Child                                          $103,093  \n",
       "                       2 Children                                       $129,759  \n",
       "                       3 Children                                       $175,426  \n",
       "2 ADULTS(1 WORKING)    0 Children                                        $75,982  \n",
       "                       1 Child                                           $91,760  \n",
       "                       2 Children                                       $104,171  \n",
       "                       3 Children                                       $120,301  \n",
       "2 ADULTS(BOTH WORKING) 0 Children                                        $75,982  \n",
       "                       1 Child                                          $110,937  \n",
       "                       2 Children                                       $142,524  \n",
       "                       3 Children                                       $177,831  "
      ]
     },
     "execution_count": 3,
     "metadata": {},
     "output_type": "execute_result"
    }
   ],
   "source": [
    "#get just the table with 'required annual income before taxes'\n",
    "full_income_table = df_list[1]\n",
    "#transpose table \n",
    "df_table = full_income_table.T\n",
    "#make first row into column headers\n",
    "df_table.columns = df_table.iloc[0]\n",
    "#drop first row of text that is now column headers\n",
    "df_table = df_table.iloc[1: , :]\n",
    "\n",
    "df_table"
   ]
  },
  {
   "cell_type": "code",
   "execution_count": 4,
   "id": "4db7a982",
   "metadata": {},
   "outputs": [
    {
     "name": "stdout",
     "output_type": "stream",
     "text": [
      "2 ADULTS(1 WORKING) assumes second adult cares for children, it is not used in further calculations\n"
     ]
    },
    {
     "data": {
      "text/html": [
       "<div>\n",
       "<style scoped>\n",
       "    .dataframe tbody tr th:only-of-type {\n",
       "        vertical-align: middle;\n",
       "    }\n",
       "\n",
       "    .dataframe tbody tr th {\n",
       "        vertical-align: top;\n",
       "    }\n",
       "\n",
       "    .dataframe thead th {\n",
       "        text-align: right;\n",
       "    }\n",
       "</style>\n",
       "<table border=\"1\" class=\"dataframe\">\n",
       "  <thead>\n",
       "    <tr style=\"text-align: right;\">\n",
       "      <th></th>\n",
       "      <th>num_adults_str</th>\n",
       "      <th>num_children_str</th>\n",
       "      <th>req_income_str</th>\n",
       "      <th>num_adults</th>\n",
       "      <th>num_children</th>\n",
       "      <th>req_income_pretax</th>\n",
       "    </tr>\n",
       "  </thead>\n",
       "  <tbody>\n",
       "    <tr>\n",
       "      <th>0</th>\n",
       "      <td>1 ADULT</td>\n",
       "      <td>0 Children</td>\n",
       "      <td>$50,463</td>\n",
       "      <td>1</td>\n",
       "      <td>0</td>\n",
       "      <td>50463</td>\n",
       "    </tr>\n",
       "    <tr>\n",
       "      <th>1</th>\n",
       "      <td>1 ADULT</td>\n",
       "      <td>1 Child</td>\n",
       "      <td>$103,093</td>\n",
       "      <td>1</td>\n",
       "      <td>1</td>\n",
       "      <td>103093</td>\n",
       "    </tr>\n",
       "    <tr>\n",
       "      <th>2</th>\n",
       "      <td>1 ADULT</td>\n",
       "      <td>2 Children</td>\n",
       "      <td>$129,759</td>\n",
       "      <td>1</td>\n",
       "      <td>2</td>\n",
       "      <td>129759</td>\n",
       "    </tr>\n",
       "    <tr>\n",
       "      <th>3</th>\n",
       "      <td>1 ADULT</td>\n",
       "      <td>3 Children</td>\n",
       "      <td>$175,426</td>\n",
       "      <td>1</td>\n",
       "      <td>3</td>\n",
       "      <td>175426</td>\n",
       "    </tr>\n",
       "    <tr>\n",
       "      <th>4</th>\n",
       "      <td>2 ADULTS(1 WORKING)</td>\n",
       "      <td>0 Children</td>\n",
       "      <td>$75,982</td>\n",
       "      <td>21</td>\n",
       "      <td>0</td>\n",
       "      <td>75982</td>\n",
       "    </tr>\n",
       "    <tr>\n",
       "      <th>5</th>\n",
       "      <td>2 ADULTS(1 WORKING)</td>\n",
       "      <td>1 Child</td>\n",
       "      <td>$91,760</td>\n",
       "      <td>21</td>\n",
       "      <td>1</td>\n",
       "      <td>91760</td>\n",
       "    </tr>\n",
       "    <tr>\n",
       "      <th>6</th>\n",
       "      <td>2 ADULTS(1 WORKING)</td>\n",
       "      <td>2 Children</td>\n",
       "      <td>$104,171</td>\n",
       "      <td>21</td>\n",
       "      <td>2</td>\n",
       "      <td>104171</td>\n",
       "    </tr>\n",
       "    <tr>\n",
       "      <th>7</th>\n",
       "      <td>2 ADULTS(1 WORKING)</td>\n",
       "      <td>3 Children</td>\n",
       "      <td>$120,301</td>\n",
       "      <td>21</td>\n",
       "      <td>3</td>\n",
       "      <td>120301</td>\n",
       "    </tr>\n",
       "    <tr>\n",
       "      <th>8</th>\n",
       "      <td>2 ADULTS(BOTH WORKING)</td>\n",
       "      <td>0 Children</td>\n",
       "      <td>$75,982</td>\n",
       "      <td>2</td>\n",
       "      <td>0</td>\n",
       "      <td>75982</td>\n",
       "    </tr>\n",
       "    <tr>\n",
       "      <th>9</th>\n",
       "      <td>2 ADULTS(BOTH WORKING)</td>\n",
       "      <td>1 Child</td>\n",
       "      <td>$110,937</td>\n",
       "      <td>2</td>\n",
       "      <td>1</td>\n",
       "      <td>110937</td>\n",
       "    </tr>\n",
       "    <tr>\n",
       "      <th>10</th>\n",
       "      <td>2 ADULTS(BOTH WORKING)</td>\n",
       "      <td>2 Children</td>\n",
       "      <td>$142,524</td>\n",
       "      <td>2</td>\n",
       "      <td>2</td>\n",
       "      <td>142524</td>\n",
       "    </tr>\n",
       "    <tr>\n",
       "      <th>11</th>\n",
       "      <td>2 ADULTS(BOTH WORKING)</td>\n",
       "      <td>3 Children</td>\n",
       "      <td>$177,831</td>\n",
       "      <td>2</td>\n",
       "      <td>3</td>\n",
       "      <td>177831</td>\n",
       "    </tr>\n",
       "  </tbody>\n",
       "</table>\n",
       "</div>"
      ],
      "text/plain": [
       "            num_adults_str num_children_str req_income_str  num_adults  \\\n",
       "0                  1 ADULT       0 Children        $50,463           1   \n",
       "1                  1 ADULT          1 Child       $103,093           1   \n",
       "2                  1 ADULT       2 Children       $129,759           1   \n",
       "3                  1 ADULT       3 Children       $175,426           1   \n",
       "4      2 ADULTS(1 WORKING)       0 Children        $75,982          21   \n",
       "5      2 ADULTS(1 WORKING)          1 Child        $91,760          21   \n",
       "6      2 ADULTS(1 WORKING)       2 Children       $104,171          21   \n",
       "7      2 ADULTS(1 WORKING)       3 Children       $120,301          21   \n",
       "8   2 ADULTS(BOTH WORKING)       0 Children        $75,982           2   \n",
       "9   2 ADULTS(BOTH WORKING)          1 Child       $110,937           2   \n",
       "10  2 ADULTS(BOTH WORKING)       2 Children       $142,524           2   \n",
       "11  2 ADULTS(BOTH WORKING)       3 Children       $177,831           2   \n",
       "\n",
       "    num_children  req_income_pretax  \n",
       "0              0              50463  \n",
       "1              1             103093  \n",
       "2              2             129759  \n",
       "3              3             175426  \n",
       "4              0              75982  \n",
       "5              1              91760  \n",
       "6              2             104171  \n",
       "7              3             120301  \n",
       "8              0              75982  \n",
       "9              1             110937  \n",
       "10             2             142524  \n",
       "11             3             177831  "
      ]
     },
     "execution_count": 4,
     "metadata": {},
     "output_type": "execute_result"
    }
   ],
   "source": [
    "#get table of adults, children and required annual income, save as a dataframe\n",
    "df_income_table = pd.DataFrame(df_table['Required annual income before taxes'])\n",
    "#move index values to columns\n",
    "df_income_table = df_income_table.reset_index()\n",
    "df_income_table.columns = ['num_adults_str', 'num_children_str', 'req_income_str']\n",
    "#get integer values from string columns\n",
    "df_income_table['num_adults'] = df_income_table['num_adults_str'].astype('str').str.extractall('(\\d+)').unstack().fillna('').sum(axis=1).astype(int)\n",
    "df_income_table['num_children'] = df_income_table['num_children_str'].astype('str').str.extractall('(\\d+)').unstack().fillna('').sum(axis=1).astype(int)\n",
    "df_income_table['req_income_pretax'] = df_income_table['req_income_str'].astype('str').str.extractall('(\\d+)').unstack().fillna('').sum(axis=1).astype(int)\n",
    "\n",
    "print('2 ADULTS(1 WORKING) assumes second adult cares for children, it is not used in further calculations')\n",
    "df_income_table\n"
   ]
  },
  {
   "cell_type": "markdown",
   "id": "bf7cda95",
   "metadata": {},
   "source": [
    "### scraped values for model <a id='scraped'></a>\n",
    "[link to model](#model)"
   ]
  },
  {
   "cell_type": "code",
   "execution_count": 5,
   "id": "747c7ab1",
   "metadata": {},
   "outputs": [
    {
     "name": "stdout",
     "output_type": "stream",
     "text": [
      "base income this year:                         50463\n",
      "average cost additional child with two adults: 33949.67\n",
      "additional cost per child for single parent:   7704.67\n",
      "average cost additional adult:                 7671.33\n",
      "cost additional circumstance:                  5000\n"
     ]
    }
   ],
   "source": [
    "# base income for 1 adult with no children\n",
    "base_income = df_income_table['req_income_pretax'][0]\n",
    "print('base income this year:                        ',base_income)\n",
    "\n",
    "# calculate the cost of an additional child with one adult in household\n",
    "one_child1 = df_income_table['req_income_pretax'][1] - df_income_table['req_income_pretax'][0]\n",
    "two_child1 = df_income_table['req_income_pretax'][2] - df_income_table['req_income_pretax'][1]\n",
    "three_child1 = df_income_table['req_income_pretax'][3] - df_income_table['req_income_pretax'][2]\n",
    "avg_child1 = (one_child1+two_child1+three_child1)/3\n",
    "#print('additional cost of one child:', one_child1)\n",
    "#print('additional cost second child:', two_child1)\n",
    "#print('additional cost third+ child:', three_child1)\n",
    "#print('average cost additional child with one adult:', round(avg_child1,2))\n",
    "\n",
    "# calculate the cost of an additional child with two adults in household\n",
    "one_child2 = df_income_table['req_income_pretax'][9] - df_income_table['req_income_pretax'][8]\n",
    "two_child2 = df_income_table['req_income_pretax'][10] - df_income_table['req_income_pretax'][9]\n",
    "three_child2 = df_income_table['req_income_pretax'][11] - df_income_table['req_income_pretax'][10]\n",
    "avg_child2 = (one_child2+two_child2+three_child2)/3\n",
    "#print('additional cost of one child:', one_child2)\n",
    "#print('additional cost second child:', two_child2)\n",
    "#print('additional cost third+ child:', three_child2)\n",
    "print('average cost additional child with two adults:', round(avg_child2,2))\n",
    "\n",
    "# calculate the additional cost per child for a single parent\n",
    "single_cost = avg_child1 - avg_child2\n",
    "print('additional cost per child for single parent:  ', round(single_cost,2))\n",
    "\n",
    "# calculate cost of additional adult\n",
    "add_adult1 = df_income_table['req_income_pretax'][9] - df_income_table['req_income_pretax'][1]\n",
    "add_adult2 = df_income_table['req_income_pretax'][10] - df_income_table['req_income_pretax'][2]\n",
    "add_adult3 = df_income_table['req_income_pretax'][11] - df_income_table['req_income_pretax'][3]\n",
    "avg_adult = (add_adult1+add_adult2+add_adult3)/3\n",
    "#print('additional cost of adult, one child:', add_adult1)\n",
    "#print('additional cost of adult, second child:', add_adult2)\n",
    "#print('additional cost of adult, third+ child:', add_adult3)\n",
    "print('average cost additional adult:                ', round(avg_adult,2))\n",
    "\n",
    "# set values for additional household members\n",
    "add_adult = avg_adult\n",
    "add_child = avg_child2\n",
    "#set default value for cost of additional circumstances\n",
    "circumstance_cost = 5000\n",
    "print('cost additional circumstance:                 ', circumstance_cost)"
   ]
  },
  {
   "cell_type": "markdown",
   "id": "4b718a77",
   "metadata": {},
   "source": [
    "# 3. Import application data"
   ]
  },
  {
   "cell_type": "markdown",
   "id": "2f33b3b5",
   "metadata": {},
   "source": [
    "**Application questions:**\n",
    "<br> Participant name.\n",
    "<br> Guardiuan/contact name.\n",
    "<br> What is your email address?\n",
    "<br  What is your phone number?\n",
    "<br> *What is your pre-tax household income, including any child support?\n",
    "<br> *How many adults are supported on this income?\n",
    "<br> *How many children are supported on this income?\n",
    "<br> *Please include any notes on additional financial circumstances your family has experienced in the past year. (i.e. tuition expenses, medical expenses, moving, divorce, immigration, loss-of-employment, and more)"
   ]
  },
  {
   "cell_type": "code",
   "execution_count": 65,
   "id": "b3dc1099",
   "metadata": {},
   "outputs": [],
   "source": [
    "#get applicant data from your local file path\n",
    "#application_data = pd.read_csv('/YOUR LOCAL PATH/fake_scholarship.csv')\n",
    "\n",
    "#get publicly availbale applicant data from github\n",
    "url = ('https://raw.githubusercontent.com/Floydworks/Capstone_3-R.Sandidge-/main/fake_scholarship.csv')\n",
    "download = requests.get(url).content\n",
    "\n",
    "# Read the downloaded content and turn it into a pandas dataframe\n",
    "application_data = pd.read_csv(io.StringIO(download.decode('utf-8')))\n"
   ]
  },
  {
   "cell_type": "code",
   "execution_count": 66,
   "id": "18e75b4c",
   "metadata": {
    "scrolled": false
   },
   "outputs": [
    {
     "data": {
      "text/html": [
       "<div>\n",
       "<style scoped>\n",
       "    .dataframe tbody tr th:only-of-type {\n",
       "        vertical-align: middle;\n",
       "    }\n",
       "\n",
       "    .dataframe tbody tr th {\n",
       "        vertical-align: top;\n",
       "    }\n",
       "\n",
       "    .dataframe thead th {\n",
       "        text-align: right;\n",
       "    }\n",
       "</style>\n",
       "<table border=\"1\" class=\"dataframe\">\n",
       "  <thead>\n",
       "    <tr style=\"text-align: right;\">\n",
       "      <th></th>\n",
       "      <th>name</th>\n",
       "      <th>applied</th>\n",
       "      <th>household_income_pre_tax</th>\n",
       "      <th>number_adults</th>\n",
       "      <th>number_children</th>\n",
       "      <th>additional_expenses</th>\n",
       "    </tr>\n",
       "  </thead>\n",
       "  <tbody>\n",
       "    <tr>\n",
       "      <th>0</th>\n",
       "      <td>a</td>\n",
       "      <td>yes</td>\n",
       "      <td>0</td>\n",
       "      <td>1</td>\n",
       "      <td>1</td>\n",
       "      <td>NaN</td>\n",
       "    </tr>\n",
       "    <tr>\n",
       "      <th>1</th>\n",
       "      <td>b</td>\n",
       "      <td>yes</td>\n",
       "      <td>0</td>\n",
       "      <td>1</td>\n",
       "      <td>1</td>\n",
       "      <td>NaN</td>\n",
       "    </tr>\n",
       "    <tr>\n",
       "      <th>2</th>\n",
       "      <td>c</td>\n",
       "      <td>yes</td>\n",
       "      <td>0</td>\n",
       "      <td>3</td>\n",
       "      <td>2</td>\n",
       "      <td>NaN</td>\n",
       "    </tr>\n",
       "    <tr>\n",
       "      <th>3</th>\n",
       "      <td>d</td>\n",
       "      <td>yes</td>\n",
       "      <td>0</td>\n",
       "      <td>2</td>\n",
       "      <td>2</td>\n",
       "      <td>NaN</td>\n",
       "    </tr>\n",
       "    <tr>\n",
       "      <th>4</th>\n",
       "      <td>e</td>\n",
       "      <td>yes</td>\n",
       "      <td>10000</td>\n",
       "      <td>1</td>\n",
       "      <td>2</td>\n",
       "      <td>NaN</td>\n",
       "    </tr>\n",
       "    <tr>\n",
       "      <th>...</th>\n",
       "      <td>...</td>\n",
       "      <td>...</td>\n",
       "      <td>...</td>\n",
       "      <td>...</td>\n",
       "      <td>...</td>\n",
       "      <td>...</td>\n",
       "    </tr>\n",
       "    <tr>\n",
       "      <th>65</th>\n",
       "      <td>ooo</td>\n",
       "      <td>yes</td>\n",
       "      <td>160000</td>\n",
       "      <td>1</td>\n",
       "      <td>2</td>\n",
       "      <td>NaN</td>\n",
       "    </tr>\n",
       "    <tr>\n",
       "      <th>66</th>\n",
       "      <td>ppp</td>\n",
       "      <td>yes</td>\n",
       "      <td>160000</td>\n",
       "      <td>2</td>\n",
       "      <td>3</td>\n",
       "      <td>NaN</td>\n",
       "    </tr>\n",
       "    <tr>\n",
       "      <th>67</th>\n",
       "      <td>qqq</td>\n",
       "      <td>yes</td>\n",
       "      <td>180000</td>\n",
       "      <td>3</td>\n",
       "      <td>4</td>\n",
       "      <td>NaN</td>\n",
       "    </tr>\n",
       "    <tr>\n",
       "      <th>68</th>\n",
       "      <td>rrr</td>\n",
       "      <td>yes</td>\n",
       "      <td>180000</td>\n",
       "      <td>2</td>\n",
       "      <td>2</td>\n",
       "      <td>NaN</td>\n",
       "    </tr>\n",
       "    <tr>\n",
       "      <th>69</th>\n",
       "      <td>sss</td>\n",
       "      <td>yes</td>\n",
       "      <td>220000</td>\n",
       "      <td>4</td>\n",
       "      <td>4</td>\n",
       "      <td>we have two children in college</td>\n",
       "    </tr>\n",
       "  </tbody>\n",
       "</table>\n",
       "<p>70 rows × 6 columns</p>\n",
       "</div>"
      ],
      "text/plain": [
       "   name applied  household_income_pre_tax  number_adults  number_children  \\\n",
       "0     a     yes                         0              1                1   \n",
       "1     b     yes                         0              1                1   \n",
       "2     c     yes                         0              3                2   \n",
       "3     d     yes                         0              2                2   \n",
       "4     e     yes                     10000              1                2   \n",
       "..  ...     ...                       ...            ...              ...   \n",
       "65  ooo     yes                    160000              1                2   \n",
       "66  ppp     yes                    160000              2                3   \n",
       "67  qqq     yes                    180000              3                4   \n",
       "68  rrr     yes                    180000              2                2   \n",
       "69  sss     yes                    220000              4                4   \n",
       "\n",
       "                additional_expenses  \n",
       "0                               NaN  \n",
       "1                               NaN  \n",
       "2                               NaN  \n",
       "3                               NaN  \n",
       "4                               NaN  \n",
       "..                              ...  \n",
       "65                              NaN  \n",
       "66                              NaN  \n",
       "67                              NaN  \n",
       "68                              NaN  \n",
       "69  we have two children in college  \n",
       "\n",
       "[70 rows x 6 columns]"
      ]
     },
     "execution_count": 66,
     "metadata": {},
     "output_type": "execute_result"
    }
   ],
   "source": [
    "application_data"
   ]
  },
  {
   "cell_type": "markdown",
   "id": "94741412",
   "metadata": {},
   "source": [
    "# 4. Visualize household incomes from fake data and real data"
   ]
  },
  {
   "cell_type": "code",
   "execution_count": 50,
   "id": "2f8b0859",
   "metadata": {},
   "outputs": [],
   "source": [
    "import pandas as pd\n",
    "import numpy as np\n",
    "from sklearn import datasets\n",
    " \n",
    "import matplotlib.pyplot as plt\n",
    "import matplotlib\n",
    "%matplotlib inline\n",
    " \n",
    "matplotlib.rcParams['font.size'] = 10\n",
    "matplotlib.rcParams['figure.dpi'] = 100\n",
    " \n",
    "from IPython.core.pylabtools import figsize"
   ]
  },
  {
   "cell_type": "code",
   "execution_count": 51,
   "id": "166c7391",
   "metadata": {},
   "outputs": [
    {
     "data": {
      "text/html": [
       "<div>\n",
       "<style scoped>\n",
       "    .dataframe tbody tr th:only-of-type {\n",
       "        vertical-align: middle;\n",
       "    }\n",
       "\n",
       "    .dataframe tbody tr th {\n",
       "        vertical-align: top;\n",
       "    }\n",
       "\n",
       "    .dataframe thead th {\n",
       "        text-align: right;\n",
       "    }\n",
       "</style>\n",
       "<table border=\"1\" class=\"dataframe\">\n",
       "  <thead>\n",
       "    <tr style=\"text-align: right;\">\n",
       "      <th></th>\n",
       "      <th>name</th>\n",
       "      <th>applied</th>\n",
       "      <th>household_income_pre_tax</th>\n",
       "      <th>number_adults</th>\n",
       "      <th>number_children</th>\n",
       "      <th>additional_expenses</th>\n",
       "    </tr>\n",
       "  </thead>\n",
       "  <tbody>\n",
       "    <tr>\n",
       "      <th>0</th>\n",
       "      <td>a</td>\n",
       "      <td>yes</td>\n",
       "      <td>0</td>\n",
       "      <td>1</td>\n",
       "      <td>1</td>\n",
       "      <td>NaN</td>\n",
       "    </tr>\n",
       "    <tr>\n",
       "      <th>1</th>\n",
       "      <td>b</td>\n",
       "      <td>yes</td>\n",
       "      <td>0</td>\n",
       "      <td>1</td>\n",
       "      <td>1</td>\n",
       "      <td>NaN</td>\n",
       "    </tr>\n",
       "    <tr>\n",
       "      <th>2</th>\n",
       "      <td>c</td>\n",
       "      <td>yes</td>\n",
       "      <td>0</td>\n",
       "      <td>3</td>\n",
       "      <td>2</td>\n",
       "      <td>NaN</td>\n",
       "    </tr>\n",
       "  </tbody>\n",
       "</table>\n",
       "</div>"
      ],
      "text/plain": [
       "  name applied  household_income_pre_tax  number_adults  number_children  \\\n",
       "0    a     yes                         0              1                1   \n",
       "1    b     yes                         0              1                1   \n",
       "2    c     yes                         0              3                2   \n",
       "\n",
       "  additional_expenses  \n",
       "0                 NaN  \n",
       "1                 NaN  \n",
       "2                 NaN  "
      ]
     },
     "execution_count": 51,
     "metadata": {},
     "output_type": "execute_result"
    }
   ],
   "source": [
    "application_data = application_data[application_data['household_income_pre_tax'].notnull()]\n",
    "application_data.head(3)"
   ]
  },
  {
   "cell_type": "code",
   "execution_count": 52,
   "id": "9d8e1bb2",
   "metadata": {},
   "outputs": [
    {
     "data": {
      "text/plain": [
       "Text(0.5, 1.0, 'household income of scholarship applicants\\nfake data')"
      ]
     },
     "execution_count": 52,
     "metadata": {},
     "output_type": "execute_result"
    },
    {
     "data": {
      "image/png": "[encoded data removed]",
      "text/plain": [
       "<Figure size 700x500 with 1 Axes>"
      ]
     },
     "metadata": {
      "needs_background": "light"
     },
     "output_type": "display_data"
    }
   ],
   "source": [
    "figsize(7, 5)\n",
    " \n",
    "plt.hist(application_data['household_income_pre_tax']/1000, color='blue', edgecolor='black', \n",
    "         bins=[10, 30, 50, 70, 90, 110, 130, 150, 170, 190, 210])\n",
    " \n",
    "plt.xlabel('household income in dollars * 1000')\n",
    "plt.ylabel('number of participants in category')\n",
    "plt.title('household income of scholarship applicants\\nfake data', fontsize=18)"
   ]
  },
  {
   "cell_type": "code",
   "execution_count": 59,
   "id": "01526af5",
   "metadata": {},
   "outputs": [
    {
     "data": {
      "text/plain": [
       "Text(0.5, 1.0, 'number of children per scholarship applicant household\\nfake data')"
      ]
     },
     "execution_count": 59,
     "metadata": {},
     "output_type": "execute_result"
    },
    {
     "data": {
      "image/png": "[encoded data removed]",
      "text/plain": [
       "<Figure size 700x500 with 1 Axes>"
      ]
     },
     "metadata": {
      "needs_background": "light"
     },
     "output_type": "display_data"
    }
   ],
   "source": [
    "figsize(7, 5)\n",
    " \n",
    "plt.hist(application_data['number_children'], color='blue', edgecolor='black', \n",
    "         bins=[1, 2, 3, 4, 5, 6, 7])\n",
    " \n",
    "plt.xlabel('number of children per household')\n",
    "plt.ylabel('number of participants in category')\n",
    "plt.title('number of children per scholarship applicant household\\nfake data', fontsize=18)"
   ]
  },
  {
   "cell_type": "code",
   "execution_count": 53,
   "id": "c4885aa9",
   "metadata": {},
   "outputs": [
    {
     "data": {
      "text/plain": [
       "Text(0.5, 1.0, 'number of adults per scholarship applicant household\\nfake data')"
      ]
     },
     "execution_count": 53,
     "metadata": {},
     "output_type": "execute_result"
    },
    {
     "data": {
      "image/png": "[encoded data removed]",
      "text/plain": [
       "<Figure size 700x500 with 1 Axes>"
      ]
     },
     "metadata": {
      "needs_background": "light"
     },
     "output_type": "display_data"
    }
   ],
   "source": [
    "figsize(7, 5)\n",
    " \n",
    "plt.hist(application_data['number_adults'], color='blue', edgecolor='black', \n",
    "         bins=[1, 2, 3, 4, 5, 6, 7])\n",
    " \n",
    "plt.xlabel('number of adults per household')\n",
    "plt.ylabel('number of participants in category')\n",
    "plt.title('number of adults per scholarship applicant household\\nfake data', fontsize=18)"
   ]
  },
  {
   "cell_type": "code",
   "execution_count": 54,
   "id": "8cdece1a",
   "metadata": {},
   "outputs": [],
   "source": [
    "#compare this with the real applicant info\n",
    "\n",
    "real_incomes = pd.Series([30000.0,50000.0,26800.0,50000.0,102912.0,41000.0,90000.0,75000.0,40000.0,70000.0,80000.0,26500.0,\n",
    "                50000.0,30000.0,80000.0,80000.0,50000.0,50000.0,40000.0,50000.0,45000.0,130000.0,40000.0,50000.0,\n",
    "                15549.0,85000.0,80000.0,90000.0,160000.0,0.0,81000.0,137000.0,105000.0,30000.0,150000.0,105000.0,\n",
    "                50000.0,50000.0])\n",
    "real_adults = pd.Series([2,1,1,1,3,2,5,2,1,1,2,1,1,1,1,1,3,3,1,3,1,4,1,1,1,1,2,2,2,1,1,1,1,1,3,1,2,2])\n",
    "real_children = pd.Series([3,1,1,1,1,2,2,4,1,1,2,1,1,1,1,2,3,3,1,1,1,1,3,1,1,2,2,3,2,2,1,1,2,1,2,2,3,3])"
   ]
  },
  {
   "cell_type": "code",
   "execution_count": 60,
   "id": "18a08840",
   "metadata": {},
   "outputs": [
    {
     "data": {
      "text/plain": [
       "Text(0.5, 1.0, 'household income of scholarship applicants\\n2019 - 2022')"
      ]
     },
     "execution_count": 60,
     "metadata": {},
     "output_type": "execute_result"
    },
    {
     "data": {
      "image/png": "[encoded data removed]",
      "text/plain": [
       "<Figure size 700x500 with 1 Axes>"
      ]
     },
     "metadata": {
      "needs_background": "light"
     },
     "output_type": "display_data"
    }
   ],
   "source": [
    "figsize(7, 5)\n",
    " \n",
    "plt.hist(real_incomes/1000, color='green', edgecolor='black', \n",
    "         bins=[10, 30, 50, 70, 90, 110, 130, 150, 170, 190, 210])\n",
    " \n",
    "plt.xlabel('household income in dollars * 1000')\n",
    "plt.ylabel('number of participants in category')\n",
    "plt.title('household income of scholarship applicants\\n2019 - 2022', fontsize=18)"
   ]
  },
  {
   "cell_type": "code",
   "execution_count": 61,
   "id": "298aeae6",
   "metadata": {},
   "outputs": [
    {
     "data": {
      "text/plain": [
       "Text(0.5, 1.0, 'number of children per scholarship applicant household\\n2019-2022')"
      ]
     },
     "execution_count": 61,
     "metadata": {},
     "output_type": "execute_result"
    },
    {
     "data": {
      "image/png": "[encoded data removed]",
      "text/plain": [
       "<Figure size 700x500 with 1 Axes>"
      ]
     },
     "metadata": {
      "needs_background": "light"
     },
     "output_type": "display_data"
    }
   ],
   "source": [
    "figsize(7, 5)\n",
    " \n",
    "plt.hist(real_children, color='green', edgecolor='black', \n",
    "         bins=[1, 2, 3, 4, 5, 6, 7])\n",
    " \n",
    "plt.xlabel('number of children per household')\n",
    "plt.ylabel('number of participants in category')\n",
    "plt.title('number of children per scholarship applicant household\\n2019-2022', fontsize=18)"
   ]
  },
  {
   "cell_type": "code",
   "execution_count": 62,
   "id": "ceaecaec",
   "metadata": {},
   "outputs": [
    {
     "data": {
      "text/plain": [
       "Text(0.5, 1.0, 'number of adults per scholarship applicant household\\n2019-2022')"
      ]
     },
     "execution_count": 62,
     "metadata": {},
     "output_type": "execute_result"
    },
    {
     "data": {
      "image/png": "[encoded data removed]",
      "text/plain": [
       "<Figure size 700x500 with 1 Axes>"
      ]
     },
     "metadata": {
      "needs_background": "light"
     },
     "output_type": "display_data"
    }
   ],
   "source": [
    "figsize(7, 5)\n",
    " \n",
    "plt.hist(real_adults, color='green', edgecolor='black', \n",
    "         bins=[1, 2, 3, 4, 5, 6, 7])\n",
    " \n",
    "plt.xlabel('number of adults per household')\n",
    "plt.ylabel('number of participants in category')\n",
    "plt.title('number of adults per scholarship applicant household\\n2019-2022', fontsize=18)"
   ]
  },
  {
   "cell_type": "markdown",
   "id": "1657be98",
   "metadata": {},
   "source": [
    "# Data Wrangling Summary\n",
    "<br>**MIT web data scraped**\n",
    "<br>**applicant data is imported**\n",
    "<br>**comparison of features with spread of the real data (not public)**"
   ]
  }
 ],
 "metadata": {
  "kernelspec": {
   "display_name": "Python 3 (ipykernel)",
   "language": "python",
   "name": "python3"
  },
  "language_info": {
   "codemirror_mode": {
    "name": "ipython",
    "version": 3
   },
   "file_extension": ".py",
   "mimetype": "text/x-python",
   "name": "python",
   "nbconvert_exporter": "python",
   "pygments_lexer": "ipython3",
   "version": "3.9.7"
  }
 },
 "nbformat": 4,
 "nbformat_minor": 5
}
